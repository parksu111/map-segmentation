{
 "cells": [
  {
   "attachments": {},
   "cell_type": "markdown",
   "metadata": {},
   "source": [
    "# Evaluation Prep\n",
    "\n",
    "In an AI competition, participants submit their predictions on the test data, which are automatically evaluated. This notebook summarizes the steps that are required for making all the files used in the evaluation process. "
   ]
  },
  {
   "cell_type": "code",
   "execution_count": 10,
   "metadata": {},
   "outputs": [],
   "source": [
    "import os\n",
    "import numpy as np\n",
    "import random\n",
    "import pandas as pd\n",
    "import cv2"
   ]
  },
  {
   "attachments": {},
   "cell_type": "markdown",
   "metadata": {},
   "source": [
    "We make 3 different files:\n",
    "* **answer.csv** - A csv file containing the building location mask for each image in the test dataset. The csv file has 4 columns:\n",
    "    * 'img_id' - Name of the test image.\n",
    "    * 'class' - Type of feature for which we find masks. In this case, the only class is 'building'.\n",
    "    * 'prediction' - The location of the pixels corresponding the the given feature. The mask is in RLE format.\n",
    "    * 'public' - Boolean value indicating whether the image is part of the public test set or private (hidden) test set.\n",
    "* **sample_submission.csv** - An example csv file that shows how prediction files should be formatted.\n",
    "    * It has all the same columns as the *answer.csv* file besides the 'public' column.\n",
    "    * The rows are in the same order as in the *answer.csv* file.\n",
    "* **evaluate.py** - Python script that takes the *answer.csv* file and prediction files rom participants and calculates the final score."
   ]
  },
  {
   "attachments": {},
   "cell_type": "markdown",
   "metadata": {},
   "source": [
    "## answer.csv"
   ]
  },
  {
   "attachments": {},
   "cell_type": "markdown",
   "metadata": {},
   "source": [
    "#### RLE\n",
    "We begin by loading the recordings."
   ]
  },
  {
   "cell_type": "code",
   "execution_count": 5,
   "metadata": {},
   "outputs": [],
   "source": [
    "testmask_path = '/workspace/Competition/map_segmentation/data/final/test/masks'\n",
    "test_masks = os.listdir(testmask_path)"
   ]
  },
  {
   "cell_type": "code",
   "execution_count": 7,
   "metadata": {},
   "outputs": [
    {
     "data": {
      "text/plain": [
       "['ODJ0HKc0Vq.png',\n",
       " '6q78aBibSV.png',\n",
       " 'iTrNBWkgm5.png',\n",
       " 'eDizgkIT6N.png',\n",
       " 'OKql19s74U.png',\n",
       " 'slinDR5sma.png',\n",
       " '6n4FRv5pBF.png',\n",
       " 'gdAZaWX3Mx.png',\n",
       " 'RRo2o91Cyt.png',\n",
       " 'aZVQc39P2l.png']"
      ]
     },
     "execution_count": 7,
     "metadata": {},
     "output_type": "execute_result"
    }
   ],
   "source": [
    "test_masks[0:10]"
   ]
  },
  {
   "cell_type": "code",
   "execution_count": 9,
   "metadata": {},
   "outputs": [],
   "source": [
    "# Function to convert mask to RLE\n",
    "def mask_to_coordinates(mask):\n",
    "    flatten_mask = mask.flatten()\n",
    "    if flatten_mask.max() == 0:\n",
    "        return f'0 {len(flatten_mask)}'\n",
    "    idx = np.where(flatten_mask!=0)[0]\n",
    "    steps = idx[1:]-idx[:-1]\n",
    "    new_coord = []\n",
    "    step_idx = np.where(np.array(steps)!=1)[0]\n",
    "    start = np.append(idx[0], idx[step_idx+1])\n",
    "    end = np.append(idx[step_idx], idx[-1])\n",
    "    length = end - start + 1\n",
    "    for i in range(len(start)):\n",
    "        new_coord.append(start[i])\n",
    "        new_coord.append(length[i])\n",
    "    new_coord_str = ' '.join(map(str, new_coord))\n",
    "    return new_coord_str"
   ]
  },
  {
   "attachments": {},
   "cell_type": "markdown",
   "metadata": {},
   "source": [
    "We use the function above to convert our png image mask to a string containing RLE coordinates."
   ]
  },
  {
   "cell_type": "code",
   "execution_count": 11,
   "metadata": {},
   "outputs": [],
   "source": [
    "recid = []\n",
    "rles = []\n",
    "\n",
    "for imask in test_masks:\n",
    "    maskpath = os.path.join(testmask_path, imask)\n",
    "    mask = cv2.imread(maskpath, cv2.IMREAD_GRAYSCALE)\n",
    "    rle = mask_to_coordinates(mask)\n",
    "    recid.append(imask)\n",
    "    rles.append(rle)"
   ]
  },
  {
   "attachments": {},
   "cell_type": "markdown",
   "metadata": {},
   "source": [
    "#### Public vs. Private\n",
    "\n",
    "We now randomly select files to be either part of the public (30%) test set or private (70%) test set. "
   ]
  },
  {
   "cell_type": "code",
   "execution_count": 12,
   "metadata": {},
   "outputs": [],
   "source": [
    "isPublic = []\n",
    "for i in range(len(recid)):\n",
    "    samp = np.random.uniform(0,1)\n",
    "    if samp < 0.3:\n",
    "        isPublic.append(True)\n",
    "    else:\n",
    "        isPublic.append(False)"
   ]
  },
  {
   "attachments": {},
   "cell_type": "markdown",
   "metadata": {},
   "source": [
    "#### Classes"
   ]
  },
  {
   "cell_type": "code",
   "execution_count": 13,
   "metadata": {},
   "outputs": [],
   "source": [
    "classes = list(np.repeat('building',len(recid)))"
   ]
  },
  {
   "attachments": {},
   "cell_type": "markdown",
   "metadata": {},
   "source": [
    "#### Combine lists to dataframe"
   ]
  },
  {
   "cell_type": "code",
   "execution_count": 14,
   "metadata": {},
   "outputs": [],
   "source": [
    "answerdf = pd.DataFrame({'img_id':recid, 'class': classes, 'prediction':rles, 'public':isPublic})"
   ]
  },
  {
   "cell_type": "code",
   "execution_count": 15,
   "metadata": {},
   "outputs": [],
   "source": [
    "answerdf.to_csv('answer.csv',index=False)"
   ]
  },
  {
   "attachments": {},
   "cell_type": "markdown",
   "metadata": {},
   "source": [
    "## sample_submission.csv"
   ]
  },
  {
   "attachments": {},
   "cell_type": "markdown",
   "metadata": {},
   "source": [
    "Making the sample_submission file is much simpler now that we already have the answer csv. We give a random mask as the predictions."
   ]
  },
  {
   "cell_type": "code",
   "execution_count": 16,
   "metadata": {},
   "outputs": [],
   "source": [
    "samples = []\n",
    "for i in range(len(recid)):\n",
    "    samples.append('1 1 3 1 6 3 13 7 23 1 27 2')"
   ]
  },
  {
   "cell_type": "code",
   "execution_count": 17,
   "metadata": {},
   "outputs": [],
   "source": [
    "ssdf = pd.DataFrame({'img_id':recid, 'class':classes, 'prediction':samples})"
   ]
  },
  {
   "cell_type": "code",
   "execution_count": 18,
   "metadata": {},
   "outputs": [],
   "source": [
    "ssdf.to_csv('sample_submission.csv', index=False)"
   ]
  },
  {
   "attachments": {},
   "cell_type": "markdown",
   "metadata": {},
   "source": [
    "## evaluate.py\n",
    "This file is used to calculate the score of the participant predictions. In the case of this specific task, the performance metric is the mIoU.\n",
    "* Calculates mIoU based on predictions.\n",
    "* Both the public and private scores are calculated."
   ]
  }
 ],
 "metadata": {
  "kernelspec": {
   "display_name": "Python 3 (ipykernel)",
   "language": "python",
   "name": "python3"
  },
  "language_info": {
   "codemirror_mode": {
    "name": "ipython",
    "version": 3
   },
   "file_extension": ".py",
   "mimetype": "text/x-python",
   "name": "python",
   "nbconvert_exporter": "python",
   "pygments_lexer": "ipython3",
   "version": "3.9.13"
  },
  "orig_nbformat": 4
 },
 "nbformat": 4,
 "nbformat_minor": 2
}
