{
 "cells": [
  {
   "attachments": {},
   "cell_type": "markdown",
   "metadata": {},
   "source": [
    "# Data Prep\n",
    "This notebook summarizes the steps that went into processing the raw data into the train and test data that was used for the competition."
   ]
  },
  {
   "cell_type": "code",
   "execution_count": 2,
   "metadata": {},
   "outputs": [],
   "source": [
    "import os \n",
    "import numpy as np\n",
    "import json\n",
    "import tifffile as tiff\n",
    "import random\n",
    "import matplotlib.pyplot as plt\n",
    "%matplotlib inline"
   ]
  },
  {
   "attachments": {},
   "cell_type": "markdown",
   "metadata": {},
   "source": [
    "## Raw Data"
   ]
  },
  {
   "attachments": {},
   "cell_type": "markdown",
   "metadata": {},
   "source": [
    "### Different Data Files\n",
    "\n",
    "We have 3 different folders coontaining different data:\n",
    "* *raw_tiffs*\n",
    "* *label_json*\n",
    "* *meta*"
   ]
  },
  {
   "cell_type": "code",
   "execution_count": 4,
   "metadata": {},
   "outputs": [],
   "source": [
    "rawtiffs_path = '/workspace/Competition/map_segmentation/data/RAW/train/raw_tiffs'\n",
    "labeljsons_path = '/workspace/Competition/map_segmentation/data/RAW/train/label_json'\n",
    "metafiles_path = '/workspace/Competition/map_segmentation/data/RAW/train/meta'\n",
    "\n",
    "raw_tiffs = os.listdir(rawtiffs_path)\n",
    "label_jsons = os.listdir(labeljsons_path)\n",
    "meta_files = os.listdir(metafiles_path)"
   ]
  },
  {
   "cell_type": "code",
   "execution_count": 6,
   "metadata": {},
   "outputs": [
    {
     "data": {
      "text/plain": [
       "(13520, 13520, 13520)"
      ]
     },
     "execution_count": 6,
     "metadata": {},
     "output_type": "execute_result"
    }
   ],
   "source": [
    "len(raw_tiffs), len(label_jsons), len(meta_files)"
   ]
  },
  {
   "attachments": {},
   "cell_type": "markdown",
   "metadata": {},
   "source": [
    "We have 13,520 files of each type. Let's examine the names of the files in each folder."
   ]
  },
  {
   "cell_type": "code",
   "execution_count": 7,
   "metadata": {},
   "outputs": [
    {
     "name": "stdout",
     "output_type": "stream",
     "text": [
      "['LC_AP_37607046_001.tif', 'LC_AP_37607046_002.tif', 'LC_AP_37607046_003.tif', 'LC_AP_37607046_004.tif', 'LC_AP_37607046_005.tif']\n"
     ]
    }
   ],
   "source": [
    "print(raw_tiffs[0:5])"
   ]
  },
  {
   "cell_type": "code",
   "execution_count": 8,
   "metadata": {},
   "outputs": [
    {
     "name": "stdout",
     "output_type": "stream",
     "text": [
      "['LC_AP_37607046_001_FGT.json', 'LC_AP_37607046_002_FGT.json', 'LC_AP_37607046_003_FGT.json', 'LC_AP_37607046_004_FGT.json', 'LC_AP_37607046_005_FGT.json']\n"
     ]
    }
   ],
   "source": [
    "print(label_jsons[0:5])"
   ]
  },
  {
   "cell_type": "code",
   "execution_count": 9,
   "metadata": {},
   "outputs": [
    {
     "name": "stdout",
     "output_type": "stream",
     "text": [
      "['LC_AP_37607046_004_META.json', 'LC_AP_37607046_005_META.json', 'LC_AP_37607046_006_META.json', 'LC_AP_37607046_007_META.json', 'LC_AP_37607046_008_META.json']\n"
     ]
    }
   ],
   "source": [
    "print(meta_files[0:5])"
   ]
  },
  {
   "attachments": {},
   "cell_type": "markdown",
   "metadata": {},
   "source": [
    "From the names of the files, it seems like there are label files ('_FGT.json') and meta files ('_META.json') corresponding to each image file ('.tif'). We check to see if this is the case:"
   ]
  },
  {
   "cell_type": "code",
   "execution_count": 10,
   "metadata": {},
   "outputs": [],
   "source": [
    "rawtiff_names = [x.split('.')[0] for x in raw_tiffs].sort()\n",
    "labeljson_names = [x.split('_FGT')[0] for x in label_jsons].sort()\n",
    "metafile_names = [x.split('_META')[0] for x in meta_files].sort()"
   ]
  },
  {
   "cell_type": "code",
   "execution_count": 11,
   "metadata": {},
   "outputs": [
    {
     "data": {
      "text/plain": [
       "True"
      ]
     },
     "execution_count": 11,
     "metadata": {},
     "output_type": "execute_result"
    }
   ],
   "source": [
    "rawtiff_names == labeljson_names"
   ]
  },
  {
   "cell_type": "code",
   "execution_count": 12,
   "metadata": {},
   "outputs": [
    {
     "data": {
      "text/plain": [
       "True"
      ]
     },
     "execution_count": 12,
     "metadata": {},
     "output_type": "execute_result"
    }
   ],
   "source": [
    "rawtiff_names == metafile_names"
   ]
  },
  {
   "attachments": {},
   "cell_type": "markdown",
   "metadata": {},
   "source": [
    "We confirm that there are label and meta files corresponding to each image file."
   ]
  },
  {
   "cell_type": "markdown",
   "metadata": {},
   "source": []
  }
 ],
 "metadata": {
  "kernelspec": {
   "display_name": "Python 3 (ipykernel)",
   "language": "python",
   "name": "python3"
  },
  "language_info": {
   "codemirror_mode": {
    "name": "ipython",
    "version": 3
   },
   "file_extension": ".py",
   "mimetype": "text/x-python",
   "name": "python",
   "nbconvert_exporter": "python",
   "pygments_lexer": "ipython3",
   "version": "3.9.13"
  },
  "orig_nbformat": 4
 },
 "nbformat": 4,
 "nbformat_minor": 2
}
