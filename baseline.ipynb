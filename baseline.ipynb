{
 "cells": [
  {
   "attachments": {},
   "cell_type": "markdown",
   "metadata": {},
   "source": [
    "# Baseline Model"
   ]
  },
  {
   "attachments": {},
   "cell_type": "markdown",
   "metadata": {},
   "source": [
    "## Import Packages"
   ]
  },
  {
   "cell_type": "code",
   "execution_count": 1,
   "metadata": {},
   "outputs": [],
   "source": [
    "import os\n",
    "import numpy as np\n",
    "import pandas as pd\n",
    "import random\n",
    "\n",
    "import torch\n",
    "import torch.nn as nn\n",
    "import torch.optim as optim\n",
    "from torch.utils.data import Dataset, DataLoader\n",
    "\n",
    "from tqdm import tqdm\n",
    "from sklearn.model_selection import train_test_split\n",
    "\n",
    "import segmentation_models_pytorch as smp\n",
    "from segmentation_models_pytorch.losses import DiceLoss\n",
    "\n",
    "import albumentations as A\n",
    "import cv2\n",
    "from datetime import datetime, timezone, timedelta"
   ]
  },
  {
   "attachments": {},
   "cell_type": "markdown",
   "metadata": {},
   "source": [
    "## CONFIG"
   ]
  },
  {
   "attachments": {},
   "cell_type": "markdown",
   "metadata": {},
   "source": [
    "### Data Directory"
   ]
  },
  {
   "cell_type": "code",
   "execution_count": 2,
   "metadata": {},
   "outputs": [],
   "source": [
    "# Project Directory\n",
    "PROJECT_DIR = '/workspace/Competition/map_segmentation'\n",
    "os.chdir(PROJECT_DIR)\n",
    "\n",
    "# Data Directory\n",
    "DATA_DIR = os.path.join(PROJECT_DIR, 'data','final') # Folder containing train and test data\n",
    "TRAIN_DIR = os.path.join(DATA_DIR, 'train') # Folder containing train data\n",
    "TRAIN_IMG_DIR = os.path.join(TRAIN_DIR, 'images') # Folder containing train images\n",
    "TRAIN_MASK_DIR = os.path.join(TRAIN_DIR, 'masks') # Folder containing train masks\n",
    "TRAIN_CSV_FILE = os.path.join(TRAIN_DIR, 'traindf.csv') # Folder containing train key"
   ]
  },
  {
   "attachments": {},
   "cell_type": "markdown",
   "metadata": {},
   "source": [
    "### Result Directory"
   ]
  },
  {
   "cell_type": "code",
   "execution_count": 3,
   "metadata": {},
   "outputs": [],
   "source": [
    "# Make unique serial number from current time\n",
    "kst = timezone(timedelta(hours=9))        \n",
    "train_serial = datetime.now(tz=kst).strftime(\"%Y%m%d_%H%M%S\")\n",
    "\n",
    "# Directory to save results\n",
    "RECORDER_DIR = os.path.join(PROJECT_DIR, 'results', 'train', train_serial)\n",
    "os.makedirs(RECORDER_DIR, exist_ok=True)    "
   ]
  },
  {
   "attachments": {},
   "cell_type": "markdown",
   "metadata": {},
   "source": [
    "### Set Seed"
   ]
  },
  {
   "cell_type": "code",
   "execution_count": 4,
   "metadata": {},
   "outputs": [],
   "source": [
    "RANDOM_SEED = 2022\n",
    "\n",
    "torch.manual_seed(RANDOM_SEED)\n",
    "torch.backends.cudnn.deterministic = True\n",
    "torch.backends.cudnn.benchmark = False\n",
    "np.random.seed(RANDOM_SEED)\n",
    "random.seed(RANDOM_SEED)"
   ]
  },
  {
   "attachments": {},
   "cell_type": "markdown",
   "metadata": {},
   "source": [
    "### Set device"
   ]
  },
  {
   "cell_type": "code",
   "execution_count": 5,
   "metadata": {},
   "outputs": [],
   "source": [
    "os.environ['CUDA_VISIBLE_DEVICES']=\"0\"\n",
    "DEVICE = torch.device('cuda' if torch.cuda.is_available() else 'cpu')"
   ]
  },
  {
   "attachments": {},
   "cell_type": "markdown",
   "metadata": {},
   "source": [
    "### Set hyperparameters"
   ]
  },
  {
   "cell_type": "code",
   "execution_count": 6,
   "metadata": {},
   "outputs": [],
   "source": [
    "EPOCHS = 20\n",
    "BATCH_SIZE = 8\n",
    "LEARNING_RATE = 0.003\n",
    "EARLY_STOPPING_PATIENCE = 10\n",
    "IMG_SIZE = 512\n",
    "\n",
    "ENCODER = 'timm-efficientnet-b0' # Encoder model to be used\n",
    "WEIGHTS = 'imagenet' # Dataset used for pretraining"
   ]
  },
  {
   "attachments": {},
   "cell_type": "markdown",
   "metadata": {},
   "source": [
    "## Define Dataset"
   ]
  },
  {
   "cell_type": "code",
   "execution_count": 7,
   "metadata": {},
   "outputs": [],
   "source": [
    "class SegDataset(Dataset):\n",
    "    def __init__(self, df, augmentations, img_dir, mask_dir):\n",
    "        self.df = df\n",
    "        self.augmentations = augmentations\n",
    "        self.img_dir = img_dir\n",
    "        self.mask_dir = mask_dir\n",
    "        \n",
    "    def __len__(self):\n",
    "        return len(self.df)\n",
    "    \n",
    "    def __getitem__(self, idx):\n",
    "        row = self.df.iloc[idx]\n",
    "        image_path = os.path.join(self.img_dir,row['img'])\n",
    "        mask_path = os.path.join(self.mask_dir, row['mask'])\n",
    "        \n",
    "        # Load image and mask\n",
    "        image = cv2.imread(image_path)\n",
    "        image = cv2.cvtColor(image, cv2.COLOR_BGR2RGB)\n",
    "        mask = cv2.imread(mask_path, cv2.IMREAD_GRAYSCALE)\n",
    "        mask = np.expand_dims(mask, axis=-1)\n",
    "        \n",
    "        # Apply augmentations\n",
    "        if self.augmentations:\n",
    "            data = self.augmentations(image=image, mask=mask)\n",
    "            image = data['image']\n",
    "            mask = data['mask']\n",
    "        \n",
    "        # Reshape data\n",
    "        image = np.transpose(image, (2,0,1)).astype(np.float32)\n",
    "        mask = np.transpose(mask, (2,0,1)).astype(np.float32)\n",
    "        \n",
    "        # Image normalization\n",
    "        image = torch.Tensor(image) / 255.0\n",
    "        mask = torch.round(torch.Tensor(mask)/255.0)\n",
    "        \n",
    "        return image, mask"
   ]
  },
  {
   "attachments": {},
   "cell_type": "markdown",
   "metadata": {},
   "source": [
    "## Define Model"
   ]
  },
  {
   "cell_type": "code",
   "execution_count": 8,
   "metadata": {},
   "outputs": [],
   "source": [
    "class SegModel(nn.Module):\n",
    "    def __init__(self):\n",
    "        super(SegModel, self).__init__()\n",
    "        \n",
    "        self.backbone = smp.Unet(\n",
    "            encoder_name = ENCODER,\n",
    "            encoder_weights = WEIGHTS,\n",
    "            in_channels = 3, \n",
    "            classes = 1,\n",
    "            activation = None\n",
    "        )\n",
    "        \n",
    "    def forward(self, images):\n",
    "        logits = self.backbone(images)\n",
    "        \n",
    "        return logits"
   ]
  },
  {
   "attachments": {},
   "cell_type": "markdown",
   "metadata": {},
   "source": [
    "## Utils"
   ]
  },
  {
   "attachments": {},
   "cell_type": "markdown",
   "metadata": {},
   "source": [
    "### Functions for data augmentation"
   ]
  },
  {
   "cell_type": "code",
   "execution_count": 9,
   "metadata": {},
   "outputs": [],
   "source": [
    "def get_train_augs():\n",
    "    return A.Compose([\n",
    "        A.Resize(IMG_SIZE, IMG_SIZE),\n",
    "        A.HorizontalFlip(p=0.5),\n",
    "        A.VerticalFlip(p=0.5)\n",
    "    ])\n",
    "\n",
    "def get_valid_augs():\n",
    "    return A.Compose([\n",
    "        A.Resize(IMG_SIZE, IMG_SIZE)\n",
    "    ])"
   ]
  },
  {
   "attachments": {},
   "cell_type": "markdown",
   "metadata": {},
   "source": [
    "### Train Function"
   ]
  },
  {
   "cell_type": "code",
   "execution_count": 10,
   "metadata": {},
   "outputs": [],
   "source": [
    "def train_fn(dataloader, model, optimizer, loss_fn):\n",
    "    model.train()\n",
    "    \n",
    "    total_loss = 0.0\n",
    "    \n",
    "    for images,masks in tqdm(dataloader):\n",
    "        images = images.to(DEVICE)\n",
    "        masks = masks.to(DEVICE)\n",
    "        \n",
    "        optimizer.zero_grad()\n",
    "        logits = model(images)\n",
    "        loss = loss_fn(logits, masks)\n",
    "        loss.backward()\n",
    "        optimizer.step()\n",
    "        \n",
    "        total_loss += loss.item()\n",
    "        \n",
    "    return total_loss/len(dataloader)"
   ]
  },
  {
   "attachments": {},
   "cell_type": "markdown",
   "metadata": {},
   "source": [
    "### Validation function"
   ]
  },
  {
   "cell_type": "code",
   "execution_count": 11,
   "metadata": {},
   "outputs": [],
   "source": [
    "def valid_fn(dataloader, model, loss_fn):\n",
    "    model.eval()\n",
    "    \n",
    "    total_loss = 0.0\n",
    "    \n",
    "    with torch.no_grad():\n",
    "        for images,masks in tqdm(dataloader):\n",
    "            images = images.to(DEVICE)\n",
    "            masks = masks.to(DEVICE)\n",
    "            logits = model(images)\n",
    "            loss = loss_fn(logits, masks)\n",
    "            total_loss += loss.item()\n",
    "    return total_loss/len(dataloader)"
   ]
  },
  {
   "attachments": {},
   "cell_type": "markdown",
   "metadata": {},
   "source": [
    "## Train the Model"
   ]
  },
  {
   "attachments": {},
   "cell_type": "markdown",
   "metadata": {},
   "source": [
    "### Instantiate Dataset & Dataloader"
   ]
  },
  {
   "cell_type": "code",
   "execution_count": 12,
   "metadata": {},
   "outputs": [],
   "source": [
    "# Train data key\n",
    "entiredf = pd.read_csv(TRAIN_CSV_FILE)\n",
    "\n",
    "# Split data into train and validation datasets\n",
    "traindf, validdf = train_test_split(entiredf, test_size=0.2)\n",
    "traindf = traindf.reset_index(drop=True)\n",
    "validdf = validdf.reset_index(drop=True)\n",
    "\n",
    "# Make datasets and dataloaders\n",
    "train_dataset = SegDataset(traindf, get_train_augs(), TRAIN_IMG_DIR, TRAIN_MASK_DIR)\n",
    "valid_dataset = SegDataset(validdf, get_valid_augs(), TRAIN_IMG_DIR, TRAIN_MASK_DIR)\n",
    "train_loader = DataLoader(train_dataset, batch_size = BATCH_SIZE, shuffle=True)\n",
    "valid_loader = DataLoader(valid_dataset, batch_size = BATCH_SIZE)"
   ]
  },
  {
   "attachments": {},
   "cell_type": "markdown",
   "metadata": {},
   "source": [
    "### Set model, loss function, optimizer"
   ]
  },
  {
   "cell_type": "code",
   "execution_count": 13,
   "metadata": {},
   "outputs": [],
   "source": [
    "model = SegModel().to(DEVICE) \n",
    "loss_fn = DiceLoss(mode = 'binary') \n",
    "optimizer = torch.optim.Adam(model.parameters(), lr=LEARNING_RATE) "
   ]
  },
  {
   "attachments": {},
   "cell_type": "markdown",
   "metadata": {},
   "source": [
    "### Train epochs"
   ]
  },
  {
   "cell_type": "code",
   "execution_count": 14,
   "metadata": {},
   "outputs": [
    {
     "name": "stderr",
     "output_type": "stream",
     "text": [
      "100%|██████████| 842/842 [04:54<00:00,  2.86it/s]\n",
      "100%|██████████| 211/211 [00:39<00:00,  5.30it/s]"
     ]
    },
    {
     "name": "stdout",
     "output_type": "stream",
     "text": [
      "saved model\n",
      "Epoch: 1, Train Loss: 0.24479317643863288 Valid Loss: 0.1882980796398145\n"
     ]
    },
    {
     "name": "stderr",
     "output_type": "stream",
     "text": [
      "\n"
     ]
    }
   ],
   "source": [
    "best_loss = np.Inf\n",
    "\n",
    "for i in range(EPOCHS):\n",
    "    train_loss = train_fn(train_loader, model, optimizer, loss_fn)\n",
    "    valid_loss = valid_fn(valid_loader, model, loss_fn)\n",
    "    \n",
    "    # Save model if loss decreases\n",
    "    if valid_loss < best_loss:\n",
    "        torch.save(model.state_dict(), os.path.join(RECORDER_DIR, \"best-model.pt\"))\n",
    "        print('saved model')\n",
    "        best_loss = valid_loss\n",
    "        print(f\"Epoch: {i+1}, Train Loss: {train_loss} Valid Loss: {valid_loss}\")"
   ]
  },
  {
   "attachments": {},
   "cell_type": "markdown",
   "metadata": {},
   "source": [
    "## Inference"
   ]
  },
  {
   "attachments": {},
   "cell_type": "markdown",
   "metadata": {},
   "source": [
    "### Function to convert Mask to RLE"
   ]
  },
  {
   "cell_type": "code",
   "execution_count": 15,
   "metadata": {},
   "outputs": [],
   "source": [
    "def mask_to_rle(mask):\n",
    "    flatten_mask = mask.flatten()\n",
    "    if flatten_mask.max() == 0:\n",
    "        return f'0 {len(flatten_mask)}'\n",
    "    idx = np.where(flatten_mask!=0)[0]\n",
    "    steps = idx[1:]-idx[:-1]\n",
    "    new_coord = []\n",
    "    step_idx = np.where(np.array(steps)!=1)[0]\n",
    "    start = np.append(idx[0], idx[step_idx+1])\n",
    "    end = np.append(idx[step_idx], idx[-1])\n",
    "    length = end - start + 1\n",
    "    for i in range(len(start)):\n",
    "        new_coord.append(start[i])\n",
    "        new_coord.append(length[i])\n",
    "    new_coord_str = ' '.join(map(str, new_coord))\n",
    "    return new_coord_str"
   ]
  },
  {
   "attachments": {},
   "cell_type": "markdown",
   "metadata": {},
   "source": [
    "### Define Test Dataset"
   ]
  },
  {
   "cell_type": "code",
   "execution_count": 16,
   "metadata": {},
   "outputs": [],
   "source": [
    "class TestDataset(Dataset):\n",
    "    def __init__(self, df, img_dir):\n",
    "        self.df = df\n",
    "        self.img_dir = img_dir\n",
    "        \n",
    "    def __len__(self):\n",
    "        return len(self.df)\n",
    "    \n",
    "    def __getitem__(self, idx):\n",
    "        row = self.df.iloc[idx]\n",
    "        imname = row['img']\n",
    "        image_path = os.path.join(self.img_dir,imname)\n",
    "        \n",
    "        image = cv2.imread(image_path)\n",
    "        image = cv2.cvtColor(image, cv2.COLOR_BGR2RGB)\n",
    "        image = np.transpose(image, (2,0,1)).astype(np.float32)\n",
    "        image = torch.Tensor(image) / 255.0\n",
    "        \n",
    "        return image,imname"
   ]
  },
  {
   "attachments": {},
   "cell_type": "markdown",
   "metadata": {},
   "source": [
    "### Set test dataset"
   ]
  },
  {
   "cell_type": "code",
   "execution_count": 17,
   "metadata": {},
   "outputs": [],
   "source": [
    "TEST_DIR = os.path.join(DATA_DIR, 'test') \n",
    "TEST_IMG_DIR = os.path.join(TEST_DIR, 'images') \n",
    "TEST_CSV_FILE = os.path.join(TEST_DIR, 'testdf.csv')\n",
    "\n",
    "testdf = pd.read_csv(TEST_CSV_FILE)\n",
    "test_dataset = TestDataset(testdf, TEST_IMG_DIR)\n",
    "test_loader = DataLoader(dataset=test_dataset, batch_size=1,shuffle=False)"
   ]
  },
  {
   "attachments": {},
   "cell_type": "markdown",
   "metadata": {},
   "source": [
    "### Load trained model parameters"
   ]
  },
  {
   "cell_type": "code",
   "execution_count": 18,
   "metadata": {},
   "outputs": [
    {
     "data": {
      "text/plain": [
       "<All keys matched successfully>"
      ]
     },
     "execution_count": 18,
     "metadata": {},
     "output_type": "execute_result"
    }
   ],
   "source": [
    "model.load_state_dict(torch.load(os.path.join(RECORDER_DIR, 'best-model.pt')))"
   ]
  },
  {
   "attachments": {},
   "cell_type": "markdown",
   "metadata": {},
   "source": [
    "### Make predictions"
   ]
  },
  {
   "cell_type": "code",
   "execution_count": 19,
   "metadata": {},
   "outputs": [
    {
     "name": "stderr",
     "output_type": "stream",
     "text": [
      "2120it [01:25, 24.84it/s]\n"
     ]
    }
   ],
   "source": [
    "file_list = [] \n",
    "pred_list = [] \n",
    "class_list = [] \n",
    "\n",
    "model.eval()\n",
    "with torch.no_grad():\n",
    "    for batch_index, (image,imname) in tqdm(enumerate(test_loader)):\n",
    "        image = image.to(DEVICE)\n",
    "        logit_mask = model(image)\n",
    "        pred_mask = torch.sigmoid(logit_mask) \n",
    "        pred_mask = (pred_mask > 0.5) * 1.0 \n",
    "        pred_rle = mask_to_rle(pred_mask.detach().cpu().squeeze(0))\n",
    "        pred_list.append(pred_rle)\n",
    "        file_list.append(imname[0])\n",
    "        class_list.append(\"building\")"
   ]
  },
  {
   "attachments": {},
   "cell_type": "markdown",
   "metadata": {},
   "source": [
    "### Save predictions in format of sample submission file"
   ]
  },
  {
   "cell_type": "code",
   "execution_count": 20,
   "metadata": {},
   "outputs": [],
   "source": [
    "# Make dataframe of predictions\n",
    "results = pd.DataFrame({'img_id':file_list,'class':class_list,'prediction':pred_list})\n",
    "\n",
    "# Change order of predictions to match that of sample_submission\n",
    "sampledf = pd.read_csv(os.path.join(TEST_DIR, 'sample_submission.csv'))\n",
    "sorter = list(sampledf['img_id'])\n",
    "results = results.set_index('img_id')\n",
    "results = results.loc[sorter].reset_index()\n",
    "                       \n",
    "# Save predictions\n",
    "results.to_csv(os.path.join(RECORDER_DIR, 'prediction.csv'), index=False)"
   ]
  }
 ],
 "metadata": {
  "kernelspec": {
   "display_name": "Python 3 (ipykernel)",
   "language": "python",
   "name": "python3"
  },
  "language_info": {
   "codemirror_mode": {
    "name": "ipython",
    "version": 3
   },
   "file_extension": ".py",
   "mimetype": "text/x-python",
   "name": "python",
   "nbconvert_exporter": "python",
   "pygments_lexer": "ipython3",
   "version": "3.9.13"
  },
  "orig_nbformat": 4
 },
 "nbformat": 4,
 "nbformat_minor": 2
}
